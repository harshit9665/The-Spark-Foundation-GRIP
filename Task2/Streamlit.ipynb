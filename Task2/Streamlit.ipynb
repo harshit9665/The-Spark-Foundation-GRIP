{
 "cells": [
  {
   "cell_type": "code",
   "execution_count": 1,
   "metadata": {},
   "outputs": [
    {
     "data": {
      "text/plain": [
       "<streamlit.DeltaGenerator.DeltaGenerator at 0x21766bf5eb8>"
      ]
     },
     "execution_count": 1,
     "metadata": {},
     "output_type": "execute_result"
    }
   ],
   "source": [
    "import streamlit as st\n",
    "import pickle as pkl\n",
    "\n",
    "pickle_in = open('regressor.pickle', 'rb')\n",
    "regressor = pkl.load(pickle_in)\n",
    "\n",
    "pickle_in.close()\n",
    "st.title('SCORE PREDICTION APP')\n",
    "st.header('ADD HOURS OF STUDY BELOW')\n",
    "\n",
    "hours = st.number_input(\"ENTER HOURS\")\n",
    "\n",
    "st.success(\"PREDICTED SCORE OF THE STUDENT: {}\".format(regressor.predict([[hours]])))"
   ]
  },
  {
   "cell_type": "code",
   "execution_count": null,
   "metadata": {},
   "outputs": [],
   "source": []
  }
 ],
 "metadata": {
  "kernelspec": {
   "display_name": "Python 3",
   "language": "python",
   "name": "python3"
  },
  "language_info": {
   "codemirror_mode": {
    "name": "ipython",
    "version": 3
   },
   "file_extension": ".py",
   "mimetype": "text/x-python",
   "name": "python",
   "nbconvert_exporter": "python",
   "pygments_lexer": "ipython3",
   "version": "3.7.0"
  }
 },
 "nbformat": 4,
 "nbformat_minor": 2
}
